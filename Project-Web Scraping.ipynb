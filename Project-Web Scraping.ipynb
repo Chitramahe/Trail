{
 "cells": [
  {
   "cell_type": "code",
   "execution_count": 19,
   "id": "de0afd22",
   "metadata": {},
   "outputs": [],
   "source": [
    "# Importing the Libraries\n",
    "import os\n",
    "import numpy as np  # Numpy Library\n",
    "import pandas as pd # Pandas Library\n",
    "import requests   # Checking Whether Permission Has been Granted or not\n",
    "from bs4 import BeautifulSoup  # Webscraping package"
   ]
  },
  {
   "cell_type": "code",
   "execution_count": 20,
   "id": "923f3e60",
   "metadata": {},
   "outputs": [
    {
     "data": {
      "text/plain": [
       "<Response [403]>"
      ]
     },
     "execution_count": 20,
     "metadata": {},
     "output_type": "execute_result"
    }
   ],
   "source": [
    "# Checking for Response\n",
    "url = 'https://www.imdb.com/list/ls000040646/'\n",
    "response = requests.get(url)\n",
    "response"
   ]
  },
  {
   "cell_type": "code",
   "execution_count": 21,
   "id": "f161de1e",
   "metadata": {},
   "outputs": [],
   "source": [
    "soup = BeautifulSoup(response.content,'html.parser')"
   ]
  },
  {
   "cell_type": "code",
   "execution_count": 22,
   "id": "6c786c06",
   "metadata": {},
   "outputs": [
    {
     "data": {
      "text/plain": [
       "[]"
      ]
     },
     "execution_count": 22,
     "metadata": {},
     "output_type": "execute_result"
    }
   ],
   "source": [
    "movie_data = soup.findAll('div',attrs={'class':'lister-item-content'})\n",
    "movie_data"
   ]
  },
  {
   "cell_type": "code",
   "execution_count": 27,
   "id": "979b12e7",
   "metadata": {},
   "outputs": [],
   "source": [
    "#Initializing empty list\n",
    "Movie_name = []\n",
    "Year = []\n",
    "Time = []\n",
    "Genre = []\n",
    "Rating = []\n",
    "Metascore = []\n",
    "Votes = []\n",
    "\n",
    "for data in movie_data:\n",
    "    name = data.h3.a.text\n",
    "    Movie_name.append(name)\n",
    "    \n",
    "    \n",
    "    Year1 = data.h3.find('span',attrs = {'class':'lister-item-year text-muted unbold'}).text.replace('(','').replace(')','')\n",
    "    Year.append(Year1)\n",
    "    \n",
    "    \n",
    "    Time1 = data.p.find('span',attrs = {'class':'runtime'}).text.replace(' min','')\n",
    "    Time.append(Time1)\n",
    "    \n",
    "    Genre1 = data.p.find('span',attrs = {'class':'genre'}).text.replace('\\n','').replace('  ','')\n",
    "    Genre.append(Genre1)\n",
    "    \n",
    "    Rating1 = data.find('span',attrs = {'class':'ipl-rating-star__rating'}).text\n",
    "    Rating.append(Rating1)\n",
    "    \n",
    "    Metascore1 = data.find('div',attrs = {'class':'inline-block ratings-metascore'}).text.replace('\\n','').replace('  ','').replace('Metascore','') if (data.find('div',attrs = {'class':'inline-block ratings-metascore'})) else '####'\n",
    "    Metascore.append(Metascore1)\n",
    "    \n",
    "    \n",
    "    value = data.find_all('span',attrs = {'name':'nv'})\n",
    "    \n",
    "    Votes1= value[0].text.replace(',','')\n",
    "    Votes.append(Votes1)\n",
    "    \n",
    "    "
   ]
  },
  {
   "cell_type": "code",
   "execution_count": 24,
   "id": "3821597c",
   "metadata": {},
   "outputs": [],
   "source": [
    "df = pd.DataFrame({'Movie_name':Movie_name,'Year':Year,'Time':Time,'Genre':Genre,'Rating':Rating,'Metascore':Metascore,'Votes':Votes})"
   ]
  },
  {
   "cell_type": "code",
   "execution_count": 157,
   "id": "62d69821",
   "metadata": {},
   "outputs": [],
   "source": [
    "# Extracting the data into excel\n",
    "df.to_excel(\"c:\\\\Users\\\\Chitra\\\\Desktop\\\\IMDB_Jackie Chan.xlsx\")"
   ]
  }
 ],
 "metadata": {
  "kernelspec": {
   "display_name": "Python 3 (ipykernel)",
   "language": "python",
   "name": "python3"
  },
  "language_info": {
   "codemirror_mode": {
    "name": "ipython",
    "version": 3
   },
   "file_extension": ".py",
   "mimetype": "text/x-python",
   "name": "python",
   "nbconvert_exporter": "python",
   "pygments_lexer": "ipython3",
   "version": "3.11.5"
  }
 },
 "nbformat": 4,
 "nbformat_minor": 5
}
